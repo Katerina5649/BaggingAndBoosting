{
 "cells": [
  {
   "cell_type": "code",
   "execution_count": 1,
   "metadata": {},
   "outputs": [],
   "source": [
    "import argparse\n",
    "\n",
    "import torch\n",
    "import torch.nn as nn\n",
    "import torch.optim as optim\n",
    "from torch.autograd import Variable\n",
    "from torch.utils.data import DataLoader\n",
    "from torch.utils.data import sampler\n",
    "from torchvision.models.resnet import resnet18\n",
    "\n",
    "import torchvision.datasets as dset\n",
    "import torchvision.transforms as T\n",
    "\n",
    "from sklearn.metrics import roc_curve, auc\n",
    "import matplotlib.pyplot as plt\n",
    "from sklearn.metrics import roc_auc_score\n",
    "\n",
    "import numpy as np"
   ]
  },
  {
   "cell_type": "code",
   "execution_count": 2,
   "metadata": {},
   "outputs": [],
   "source": [
    "## зададим настройки\n",
    "class Args():\n",
    "    batch_size = 128\n",
    "    weight_decay = 0.0001\n",
    "    print_every = 100\n",
    "\n",
    "\n",
    "args = Args()"
   ]
  },
  {
   "cell_type": "code",
   "execution_count": 3,
   "metadata": {},
   "outputs": [
    {
     "name": "stdout",
     "output_type": "stream",
     "text": [
      "Files already downloaded and verified\n",
      "Files already downloaded and verified\n",
      "Files already downloaded and verified\n"
     ]
    }
   ],
   "source": [
    "# get CIFAR-10 data\n",
    "transform_augment = T.Compose([\n",
    "    T.RandomHorizontalFlip(),\n",
    "    T.RandomCrop(32, padding=4)])\n",
    "transform_normalize = T.Compose([\n",
    "    T.ToTensor(),\n",
    "    T.Normalize((0.5, 0.5, 0.5), (0.5, 0.5, 0.5))\n",
    "])\n",
    "\n",
    "# dataloaders\n",
    "NUM_TRAIN = 45000\n",
    "NUM_VAL = 5000\n",
    "cifar10_train = dset.CIFAR10('./dataset', train=True, download=True,\n",
    "                                 transform=T.Compose([transform_augment, transform_normalize]))\n",
    "loader_train = DataLoader(cifar10_train, batch_size=args.batch_size)\n",
    "cifar10_val = dset.CIFAR10('./dataset', train=True, download=True,\n",
    "                               transform=transform_normalize)\n",
    "loader_val = DataLoader(cifar10_train, batch_size=args.batch_size)\n",
    "cifar10_test = dset.CIFAR10('./dataset', train=False, download=True,\n",
    "                                transform=transform_normalize)\n",
    "loader_test = DataLoader(cifar10_test, batch_size=args.batch_size)"
   ]
  },
  {
   "cell_type": "code",
   "execution_count": 4,
   "metadata": {},
   "outputs": [],
   "source": [
    "device = torch.device(\"cuda:0\" if torch.cuda.is_available() else \"cpu\")\n",
    "model = resnet18(num_classes = 10)\n",
    "#model.load_state_dict(torch.load('ResNet18_weight'))\n",
    "model.to(device)\n",
    "criterion = nn.CrossEntropyLoss().cuda()\n",
    "\n",
    "global gpu_dtype\n",
    "gpu_dtype = torch.cuda.FloatTensor"
   ]
  },
  {
   "cell_type": "code",
   "execution_count": 5,
   "metadata": {},
   "outputs": [],
   "source": [
    "SCHEDULE_EPOCHS = [100, 50, 50] # divide lr by 10 after each number of epochs\n",
    "learning_rate = 0.1"
   ]
  },
  {
   "cell_type": "code",
   "execution_count": 6,
   "metadata": {},
   "outputs": [],
   "source": [
    "def check_accuracy(model, loader):\n",
    "    num_correct = 0\n",
    "    num_samples = 0\n",
    "    model.eval()\n",
    "    for X, y in loader:\n",
    "        X_var = Variable(X.type(gpu_dtype), volatile=True)\n",
    "\n",
    "        scores = model(X_var)\n",
    "        _, preds = scores.data.cpu().max(1)\n",
    "\n",
    "        num_correct += (preds == y).sum()\n",
    "        num_samples += preds.size(0)\n",
    "\n",
    "    acc = float(num_correct) / num_samples\n",
    "    print('Got %d / %d correct (%.4f)' % (num_correct, num_samples, acc))\n",
    "    return acc\n",
    "\n",
    "def train(loader_train, model, criterion, optimizer):\n",
    "    loss_arr  = []\n",
    "    model.train()\n",
    "    for t, (X, y) in enumerate(loader_train):\n",
    "        X_var = Variable(X.type(gpu_dtype))\n",
    "        y_var = Variable(y.type(gpu_dtype)).long()\n",
    "\n",
    "        scores = model(X_var)\n",
    "\n",
    "        loss = criterion(scores, y_var)\n",
    "        loss_arr += [loss.item()]\n",
    "        #if (t+1) % args.print_every == 0:\n",
    "        #    print('t = %d, loss = %.4f' % (t+1, loss.item()))\n",
    "\n",
    "        optimizer.zero_grad()\n",
    "        loss.backward()\n",
    "        optimizer.step()\n",
    "    return  np.mean(loss_arr)\n",
    "\n",
    "def plot_loss_and_accuracy(loss, acc):\n",
    "    n = len(loss)\n",
    "    f1, ax1 = plt.subplots(1, 1, sharey=True)\n",
    "    ax1.plot(range(1,n+1), loss)\n",
    "    ax1.set_title('Loss')\n",
    "    ax1.set_ylabel('loss')\n",
    "    ax1.set_xlabel('epoch')\n",
    "    \n",
    "    f2, ax2 = plt.subplots(1, 1, sharey=True)\n",
    "    ax2.plot(range(n), acc)\n",
    "    ax2.set_title('Accuracy')\n",
    "    ax2.set_ylabel('acc')\n",
    "    ax2.set_xlabel('epoch')\n",
    "    \n",
    "    plt.show()\n",
    "\n",
    "def get_score(model, loader):\n",
    "    predict_labels = np.array([])\n",
    "    true_labels = np.array([])\n",
    "    \n",
    "    model.eval()\n",
    "    for t, (X, y) in enumerate(loader):\n",
    "        X_var = Variable(X.type(torch.FloatTensor), volatile=True)\n",
    "        scores = model(X_var.to(device))\n",
    "        _, preds = scores.data.max(1)\n",
    "        predict_labels = np.append(predict_labels, preds.cpu().numpy())\n",
    "        true_labels = np.append(true_labels, y.numpy())\n",
    "\n",
    "    return predict_labels, true_labels\n",
    "\n",
    "def predict(model, loader):\n",
    "    predict_labels = np.array([[]])    \n",
    "    model.eval()\n",
    "    for t, (X, y) in enumerate(loader):\n",
    "        X_var = Variable(X.type(torch.FloatTensor), volatile=True)\n",
    "        preds = model(X_var.to(device))\n",
    "        if t == 0:\n",
    "            predict_labels = preds.cpu().detach().numpy()\n",
    "        else:\n",
    "            predict_labels = np.vstack((predict_labels,preds.cpu().detach().numpy()))\n",
    "\n",
    "    return predict_labels"
   ]
  },
  {
   "cell_type": "code",
   "execution_count": 7,
   "metadata": {},
   "outputs": [
    {
     "name": "stdout",
     "output_type": "stream",
     "text": [
      "Starting epoch 50 / 50\n"
     ]
    },
    {
     "data": {
      "image/png": "[encoded data removed]",
      "text/plain": [
       "<Figure size 432x288 with 1 Axes>"
      ]
     },
     "metadata": {
      "needs_background": "light"
     },
     "output_type": "display_data"
    },
    {
     "data": {
      "image/png": "[encoded data removed]",
      "text/plain": [
       "<Figure size 432x288 with 1 Axes>"
      ]
     },
     "metadata": {
      "needs_background": "light"
     },
     "output_type": "display_data"
    }
   ],
   "source": [
    "from IPython import display\n",
    "\n",
    "loss  = []\n",
    "acc = []\n",
    "for num_epochs in SCHEDULE_EPOCHS:\n",
    "    print('Training for %d epochs with learning rate %f' % (num_epochs, learning_rate))\n",
    "    optimizer = optim.SGD(model.parameters(), lr=learning_rate,\n",
    "                          momentum=0.9, weight_decay=args.weight_decay)\n",
    "    for epoch in range(num_epochs):\n",
    "        acc += [check_accuracy(model, loader_val)]  \n",
    "        loss += [train(loader_train, model, criterion, optimizer)]\n",
    "        display.clear_output()\n",
    "        print('Starting epoch %d / %d' % (epoch+1, num_epochs))\n",
    "        plot_loss_and_accuracy(loss, acc)        \n",
    "        torch.save(model.cpu().state_dict(), 'ResNet18_weight')\n",
    "        model.to(device)\n",
    "    learning_rate *= 0.1"
   ]
  },
  {
   "cell_type": "code",
   "execution_count": 8,
   "metadata": {},
   "outputs": [
    {
     "data": {
      "text/plain": [
       "0.9938"
      ]
     },
     "execution_count": 8,
     "metadata": {},
     "output_type": "execute_result"
    }
   ],
   "source": [
    "acc[-1]"
   ]
  },
  {
   "cell_type": "markdown",
   "metadata": {},
   "source": [
    "## Построим Roc кривую"
   ]
  },
  {
   "cell_type": "code",
   "execution_count": 9,
   "metadata": {},
   "outputs": [],
   "source": [
    "import numpy as np\n",
    "import matplotlib.pyplot as plt\n",
    "from itertools import cycle\n",
    "\n",
    "from sklearn import svm, datasets\n",
    "from sklearn.metrics import roc_curve, auc\n",
    "from sklearn.model_selection import train_test_split\n",
    "from sklearn.preprocessing import label_binarize\n",
    "from sklearn.multiclass import OneVsRestClassifier\n",
    "from scipy import interp\n",
    "from sklearn.metrics import roc_auc_score"
   ]
  },
  {
   "cell_type": "code",
   "execution_count": 10,
   "metadata": {},
   "outputs": [
    {
     "name": "stderr",
     "output_type": "stream",
     "text": [
      "/home/Katerina5649/Pulse/lib/python3.6/site-packages/ipykernel_launcher.py:59: UserWarning: volatile was removed and now has no effect. Use `with torch.no_grad():` instead.\n",
      "/home/Katerina5649/Pulse/lib/python3.6/site-packages/ipykernel_launcher.py:71: UserWarning: volatile was removed and now has no effect. Use `with torch.no_grad():` instead.\n"
     ]
    }
   ],
   "source": [
    "res , y_test = get_score(model, loader_test)\n",
    "y_score = predict(model, loader_test)"
   ]
  },
  {
   "cell_type": "code",
   "execution_count": 11,
   "metadata": {},
   "outputs": [],
   "source": [
    "#example how to plot Roc curve - https://scikit-learn.org/stable/auto_examples/model_selection/plot_roc.html\n",
    "\n",
    "n_classes = 10\n",
    "# Compute ROC curve and ROC area for each class\n",
    "fpr = dict()\n",
    "tpr = dict()\n",
    "roc_auc = dict()\n",
    "\n",
    "\n",
    "true = np.zeros(y_score.shape)\n",
    "for i in range(y_score.shape[0]):\n",
    "    j = int(res[i])\n",
    "    true[i][j] = 1\n",
    "    \n",
    "y_test = true.astype(int)    \n",
    "for i in range(n_classes):\n",
    "    fpr[i], tpr[i], _ = roc_curve(y_test[:,i], y_score[:,i])\n",
    "    roc_auc[i] = auc(fpr[i], tpr[i])\n",
    "\n",
    "# Compute micro-average ROC curve and ROC area\n",
    "fpr[\"micro\"], tpr[\"micro\"], _ = roc_curve(y_test.ravel(), y_score.ravel())\n",
    "roc_auc[\"micro\"] = auc(fpr[\"micro\"], tpr[\"micro\"])"
   ]
  },
  {
   "cell_type": "code",
   "execution_count": 12,
   "metadata": {},
   "outputs": [
    {
     "name": "stderr",
     "output_type": "stream",
     "text": [
      "/home/Katerina5649/Pulse/lib/python3.6/site-packages/ipykernel_launcher.py:8: DeprecationWarning: scipy.interp is deprecated and will be removed in SciPy 2.0.0, use numpy.interp instead\n",
      "  \n"
     ]
    },
    {
     "data": {
      "image/png": "[encoded data removed]",
      "text/plain": [
       "<Figure size 432x288 with 1 Axes>"
      ]
     },
     "metadata": {
      "needs_background": "light"
     },
     "output_type": "display_data"
    }
   ],
   "source": [
    "# First aggregate all false positive rates\n",
    "all_fpr = np.array([0.,1.,2.,3.,4.,5.,6.,7.,8.,9.])\n",
    "lw = 2\n",
    "\n",
    "# Then interpolate all ROC curves at this points\n",
    "mean_tpr = np.zeros_like(all_fpr)\n",
    "for i in range(n_classes):\n",
    "    mean_tpr += interp(all_fpr, fpr[i], tpr[i])\n",
    "\n",
    "# Finally average it and compute AUC\n",
    "mean_tpr /= n_classes\n",
    "\n",
    "fpr[\"macro\"] = all_fpr\n",
    "tpr[\"macro\"] = mean_tpr\n",
    "roc_auc[\"macro\"] = auc(fpr[\"macro\"], tpr[\"macro\"])\n",
    "\n",
    "# Plot all ROC curves\n",
    "plt.figure()\n",
    "plt.plot(fpr[\"micro\"], tpr[\"micro\"],\n",
    "         label='micro-average ROC curve (area = {0:0.2f})'\n",
    "               ''.format(roc_auc[\"micro\"]),\n",
    "         color='deeppink', linestyle=':', linewidth=4)\n",
    "\n",
    "plt.plot(fpr[\"macro\"], tpr[\"macro\"],\n",
    "         label='macro-average ROC curve (area = {0:0.2f})'\n",
    "               ''.format(roc_auc[\"macro\"]),\n",
    "         color='navy', linestyle=':', linewidth=4)\n",
    "\n",
    "colors = cycle(['aqua', 'darkorange', 'cornflowerblue'])\n",
    "for i, color in zip(range(n_classes), colors):\n",
    "    plt.plot(fpr[i], tpr[i], color=color, lw=lw,\n",
    "             label='ROC curve of class {0} (area = {1:0.2f})'\n",
    "             ''.format(i, roc_auc[i]))\n",
    "\n",
    "plt.plot([0, 1], [0, 1], 'k--', lw=lw)\n",
    "plt.xlim([0.0, 1.0])\n",
    "plt.ylim([0.0, 1.05])\n",
    "plt.xlabel('False Positive Rate')\n",
    "plt.ylabel('True Positive Rate')\n",
    "plt.title('ROC for multi-class')\n",
    "plt.legend(loc=\"lower right\")\n",
    "plt.show()"
   ]
  },
  {
   "cell_type": "code",
   "execution_count": null,
   "metadata": {},
   "outputs": [],
   "source": []
  }
 ],
 "metadata": {
  "kernelspec": {
   "display_name": "Python 3",
   "language": "python",
   "name": "python3"
  },
  "language_info": {
   "codemirror_mode": {
    "name": "ipython",
    "version": 3
   },
   "file_extension": ".py",
   "mimetype": "text/x-python",
   "name": "python",
   "nbconvert_exporter": "python",
   "pygments_lexer": "ipython3",
   "version": "3.7.4"
  }
 },
 "nbformat": 4,
 "nbformat_minor": 4
}
